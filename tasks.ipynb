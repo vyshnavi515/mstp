{
 "cells": [
  {
   "cell_type": "markdown",
   "metadata": {},
   "source": [
    "# 27-08-2019"
   ]
  },
  {
   "cell_type": "markdown",
   "metadata": {},
   "source": [
    "## program for printing first 15 prime number"
   ]
  },
  {
   "cell_type": "code",
   "execution_count": 22,
   "metadata": {},
   "outputs": [
    {
     "name": "stdout",
     "output_type": "stream",
     "text": [
      "1  -  2\n",
      "2  -  3\n",
      "3  -  5\n",
      "4  -  7\n",
      "5  -  11\n",
      "6  -  13\n",
      "7  -  17\n",
      "8  -  19\n",
      "9  -  23\n",
      "10  -  29\n",
      "11  -  31\n",
      "12  -  37\n",
      "13  -  41\n",
      "14  -  43\n",
      "15  -  47\n"
     ]
    }
   ],
   "source": [
    "i=1\n",
    "x=2\n",
    "flag=0\n",
    "while i<=15:\n",
    "    for j in range(2,x):\n",
    "        if(x%j==0):\n",
    "            flag+=1\n",
    "    if(flag==0):\n",
    "        i+=1\n",
    "        print(i-1,' - ',x)\n",
    "        x+=1\n",
    "    else:\n",
    "        x=x+1\n",
    "        flag=0\n",
    "        "
   ]
  },
  {
   "cell_type": "markdown",
   "metadata": {},
   "source": [
    "## check the given number exist t in a given range"
   ]
  },
  {
   "cell_type": "code",
   "execution_count": 9,
   "metadata": {},
   "outputs": [
    {
     "name": "stdout",
     "output_type": "stream",
     "text": [
      "enter lower number1\n",
      "enter upper number100\n",
      "enter number215\n",
      "number  215  not exist in between  1  and  100\n"
     ]
    }
   ],
   "source": [
    "l=int(input(\"enter lower number\"))\n",
    "u=int(input(\"enter upper number\"))\n",
    "n=int(input('enter number'))\n",
    "if(l<=n<=u):\n",
    "    print('number ',n,' exist in between ',l,' and ',u)\n",
    "else:\n",
    "    print('number ',n,' not exist in between ',l,' and ',u)"
   ]
  },
  {
   "cell_type": "markdown",
   "metadata": {},
   "source": [
    "## check the number of digites in the given number"
   ]
  },
  {
   "cell_type": "code",
   "execution_count": 10,
   "metadata": {},
   "outputs": [
    {
     "name": "stdout",
     "output_type": "stream",
     "text": [
      "enter a number123456\n",
      "the length of the given number n =  123456  is  6\n"
     ]
    }
   ],
   "source": [
    "n=int(input('enter a number'))\n",
    "print('the length of the given number n = ',n,' is ',len(str(n)))"
   ]
  },
  {
   "cell_type": "markdown",
   "metadata": {},
   "source": [
    "## given number is factor of 1000 or not"
   ]
  },
  {
   "cell_type": "code",
   "execution_count": 11,
   "metadata": {},
   "outputs": [
    {
     "name": "stdout",
     "output_type": "stream",
     "text": [
      "enter a number25\n",
      "yes\n"
     ]
    }
   ],
   "source": [
    "num=int (input('enter a number'))\n",
    "if 1000%num==0:\n",
    "    print('yes')\n",
    "else:\n",
    "    print('no')"
   ]
  },
  {
   "cell_type": "markdown",
   "metadata": {},
   "source": [
    "## calculate the square root of a givrn number"
   ]
  },
  {
   "cell_type": "code",
   "execution_count": 15,
   "metadata": {},
   "outputs": [
    {
     "name": "stdout",
     "output_type": "stream",
     "text": [
      "255\n",
      "the square root of  255  is   15.968719422671311\n"
     ]
    }
   ],
   "source": [
    "n=int(input(\"\"))\n",
    "s=(n**(1/2))\n",
    "print('the square root of ',n,' is  ',s)"
   ]
  },
  {
   "cell_type": "markdown",
   "metadata": {},
   "source": [
    "# print count and average of numbers taken by the user in a single line"
   ]
  },
  {
   "cell_type": "code",
   "execution_count": 16,
   "metadata": {},
   "outputs": [
    {
     "name": "stdout",
     "output_type": "stream",
     "text": [
      "1,2,3,4,5,6,7,8,9,10\n",
      "count of given number  10\n",
      "average of given numbers is 5.5\n"
     ]
    }
   ],
   "source": [
    "x=input()\n",
    "s=0\n",
    "c=0\n",
    "x=x.split(',')\n",
    "for i in x:\n",
    "    s+=int(i)\n",
    "    c=c+1\n",
    "print('count of given number ',c)\n",
    "print('average of given numbers is',s/c)"
   ]
  },
  {
   "cell_type": "markdown",
   "metadata": {},
   "source": [
    "## given string is pallindrom or not"
   ]
  },
  {
   "cell_type": "code",
   "execution_count": 21,
   "metadata": {},
   "outputs": [
    {
     "name": "stdout",
     "output_type": "stream",
     "text": [
      "madam\n",
      "yes\n"
     ]
    }
   ],
   "source": [
    "s=input()\n",
    "ss=s[-1::-1]\n",
    "if(s==ss):\n",
    "    print('yes')\n",
    "else:\n",
    "    print('no')"
   ]
  },
  {
   "cell_type": "markdown",
   "metadata": {},
   "source": [
    "## prime numbers upto \"n\""
   ]
  },
  {
   "cell_type": "code",
   "execution_count": 2,
   "metadata": {},
   "outputs": [
    {
     "name": "stdout",
     "output_type": "stream",
     "text": [
      "enter a number10\n",
      "2\n",
      "3\n",
      "5\n",
      "7\n"
     ]
    }
   ],
   "source": [
    "n=int(input(\"enter a number\"))\n",
    "flag=0\n",
    "for i in range(2,n+1):\n",
    "    for j in range(2,int(i**(1/2))+1):\n",
    "        if(i%j==0):\n",
    "            flag+=1\n",
    "    if(flag==0):\n",
    "        print(i)  \n",
    "    else:\n",
    "        flag=0\n"
   ]
  },
  {
   "cell_type": "markdown",
   "metadata": {},
   "source": [
    "## count the number od divisiors of 'n' in between the range l and u (including l,u )"
   ]
  },
  {
   "cell_type": "code",
   "execution_count": 31,
   "metadata": {},
   "outputs": [
    {
     "name": "stdout",
     "output_type": "stream",
     "text": [
      "enter a lower limit number1\n",
      "enter a upper limit number10\n",
      "enter a number5\n",
      "count = 2\n"
     ]
    }
   ],
   "source": [
    "l=int(input(\"enter a lower limit number\"))\n",
    "u=int(input(\"enter a upper limit number\"))\n",
    "n=int(input(\"enter a number\"))\n",
    "c=0\n",
    "for i in range(l,u+1):\n",
    "    if(i%n==0):\n",
    "        c+=1\n",
    "print('count =',c)\n",
    "    "
   ]
  },
  {
   "cell_type": "markdown",
   "metadata": {},
   "source": [
    "### ISBN vallid if :\n",
    "#### 1*digit1+2*digit2+3*digit3+.....+10*digit10 is divisible by 11"
   ]
  },
  {
   "cell_type": "code",
   "execution_count": 38,
   "metadata": {},
   "outputs": [
    {
     "name": "stdout",
     "output_type": "stream",
     "text": [
      "enter ISBN code 1401601499\n",
      "Ligal ISBN code\n"
     ]
    }
   ],
   "source": [
    "s=input('enter ISBN code ')\n",
    "su=0\n",
    "c=1\n",
    "for i in s:\n",
    "    su+=int(i)*c\n",
    "    c+=1\n",
    "if(su%11==0):\n",
    "    print('Ligal ISBN code')\n",
    "else:\n",
    "    print('Not a Ligal ISBN code')"
   ]
  },
  {
   "cell_type": "markdown",
   "metadata": {},
   "source": [
    "#### change a string lowercase-characters to uppercase-characters and uppercase-characters ti lowercase-characters "
   ]
  },
  {
   "cell_type": "code",
   "execution_count": 41,
   "metadata": {},
   "outputs": [
    {
     "name": "stdout",
     "output_type": "stream",
     "text": [
      "enter a string   HeLlO\n",
      "hElLo\n"
     ]
    }
   ],
   "source": [
    "s=input('enter a string   ')\n",
    "print(s.swapcase())"
   ]
  },
  {
   "cell_type": "markdown",
   "metadata": {},
   "source": [
    "## given 2 strings are equal or not"
   ]
  },
  {
   "cell_type": "code",
   "execution_count": 60,
   "metadata": {},
   "outputs": [
    {
     "name": "stdout",
     "output_type": "stream",
     "text": [
      "1234\n",
      "2314\n",
      "same\n"
     ]
    }
   ],
   "source": [
    "z=input()\n",
    "Y=input()\n",
    "flag=0\n",
    "for j in z:\n",
    "    if(j not in Y):\n",
    "        flag=1\n",
    "if(flag==1):\n",
    "    print('not same')\n",
    "else:\n",
    "    print('same')"
   ]
  },
  {
   "cell_type": "markdown",
   "metadata": {},
   "source": [
    "## a=1 b=2 c=3 .........z=26    find the sum of the characters in a givn string\n",
    "### eg: aba=1+2+1=4"
   ]
  },
  {
   "cell_type": "code",
   "execution_count": 47,
   "metadata": {},
   "outputs": [
    {
     "name": "stdout",
     "output_type": "stream",
     "text": [
      "enter a string  az\n",
      "27\n"
     ]
    }
   ],
   "source": [
    "s=input('enter a string  ')\n",
    "su=0\n",
    "for i in s:\n",
    "    su+=ord(i)-ord('a')+1\n",
    "print(su)"
   ]
  },
  {
   "cell_type": "markdown",
   "metadata": {},
   "source": [
    "## in a graph l-left r-right u-up "
   ]
  },
  {
   "cell_type": "code",
   "execution_count": 48,
   "metadata": {},
   "outputs": [
    {
     "name": "stdout",
     "output_type": "stream",
     "text": [
      "LLRDDR\n",
      "x =  1 y =  0\n",
      "x =  2 y =  0\n",
      "x =  1 y =  0\n",
      "x =  1 y =  -1\n",
      "x =  1 y =  -2\n",
      "x =  0 y =  -2\n"
     ]
    }
   ],
   "source": [
    "co=input()\n",
    "x=0\n",
    "y=0\n",
    "for i in co:\n",
    "    if(i=='L'):\n",
    "        x-=1\n",
    "    if(i=='R'):\n",
    "        x+=1\n",
    "    if(i=='U'):\n",
    "        y+=1\n",
    "    if(i=='D'):\n",
    "        y-=1\n",
    "    print('x = ',x,'y = ',y)"
   ]
  },
  {
   "cell_type": "markdown",
   "metadata": {},
   "source": [
    "# 28-8-2019"
   ]
  },
  {
   "cell_type": "markdown",
   "metadata": {},
   "source": [
    "## Solve the given arithmetic expression in string form\n",
    "\n"
   ]
  },
  {
   "cell_type": "code",
   "execution_count": 1,
   "metadata": {},
   "outputs": [
    {
     "name": "stdout",
     "output_type": "stream",
     "text": [
      "Enter the string:2 * 3\n",
      "6\n"
     ]
    }
   ],
   "source": [
    "a=input(\"Enter the string:\")\n",
    "a=a.split()\n",
    "if a[1]=='+':\n",
    "    output=int(a[0])+int(a[2])\n",
    "if a[1]=='-':\n",
    "    output=int(a[0])-int(a[2])\n",
    "if a[1]=='*':\n",
    "    output=int(a[0])*int(a[2])\n",
    "if a[1]=='/':\n",
    "    output=int(a[0])/int(a[2])\n",
    "if a[1]=='%':\n",
    "    output=int(a[0])%int(a[2])\n",
    "print(output)"
   ]
  },
  {
   "cell_type": "markdown",
   "metadata": {},
   "source": [
    "# write the program to print the input numbers as output.stop the printing input after reading the input as 42.\n"
   ]
  },
  {
   "cell_type": "code",
   "execution_count": 3,
   "metadata": {},
   "outputs": [
    {
     "name": "stdout",
     "output_type": "stream",
     "text": [
      "\n",
      "Enter the number:5\n",
      "5\n",
      "Enter the number:42\n"
     ]
    }
   ],
   "source": [
    "a=''\n",
    "while a!=42:\n",
    "    print(a)\n",
    "    a=int(input(\"Enter the number:\"))"
   ]
  },
  {
   "cell_type": "markdown",
   "metadata": {},
   "source": [
    "# Profile Photo Task:¶\n",
    "* if W&H<L -------- \"UPLOAD ANOTHER\"\n",
    "* if W&H>L -------- \"ACCEPTED\"\n",
    "* if W&H are different then \"CROP IT"
   ]
  },
  {
   "cell_type": "code",
   "execution_count": 4,
   "metadata": {},
   "outputs": [
    {
     "name": "stdout",
     "output_type": "stream",
     "text": [
      "Enter number of photos:1\n",
      "Enter the values of W and H:180 200\n",
      "CROP IT\n"
     ]
    }
   ],
   "source": [
    "L=180\n",
    "N=int(input(\"Enter number of photos:\"))\n",
    "for i in range(N):\n",
    "    a=input(\"Enter the values of W and H:\")\n",
    "    W,H=a.split()\n",
    "    if int(W)<L or L>int(H):\n",
    "        print(\"UPLOAD ANOTHER\")\n",
    "    elif int(W)==int(H)>L:\n",
    "        print(\"ACCEPTED\")\n",
    "    else:\n",
    "        print(\"CROP IT\")"
   ]
  },
  {
   "cell_type": "code",
   "execution_count": null,
   "metadata": {},
   "outputs": [],
   "source": []
  },
  {
   "cell_type": "markdown",
   "metadata": {},
   "source": [
    "## String Methods"
   ]
  },
  {
   "cell_type": "code",
   "execution_count": 58,
   "metadata": {},
   "outputs": [
    {
     "name": "stdout",
     "output_type": "stream",
     "text": [
      "lower case ----------------  problem solving using python\n",
      "string in reverse ---------  nohtyP gnisU gnivloS melborP\n",
      "count os \"s\" in given string- 1\n"
     ]
    }
   ],
   "source": [
    "s=\"Problem Solving Using Python\"\n",
    "print('lower case ---------------- ',s.lower())\n",
    "print('string in reverse --------- ',s[-1::-1])\n",
    "print('count os \"s\" in given string-',s.count('s'))"
   ]
  },
  {
   "cell_type": "code",
   "execution_count": 56,
   "metadata": {},
   "outputs": [
    {
     "name": "stdout",
     "output_type": "stream",
     "text": [
      "count of \" python \" in given string  2\n"
     ]
    }
   ],
   "source": [
    "c=\"python programming by python platform\"\n",
    "print('count of \" python \" in given string ',c.count('python'))"
   ]
  },
  {
   "cell_type": "code",
   "execution_count": 1,
   "metadata": {},
   "outputs": [
    {
     "name": "stdout",
     "output_type": "stream",
     "text": [
      "100\n"
     ]
    }
   ],
   "source": [
    "i=['ggg',5,'rf',35,60]\n",
    "s=0\n",
    "for j in i:\n",
    "    if str(j).isdigit():\n",
    "        s+=j\n",
    "print(s)"
   ]
  },
  {
   "cell_type": "markdown",
   "metadata": {},
   "source": [
    "# 3-9-2019"
   ]
  },
  {
   "cell_type": "markdown",
   "metadata": {},
   "source": [
    "# 1 . find highest scored person name"
   ]
  },
  {
   "cell_type": "code",
   "execution_count": 13,
   "metadata": {},
   "outputs": [],
   "source": [
    "stu=[['sai',10,20,30],['lakshmi',20,30,40],['raju',20,30,40],['sri',10,20,30],['rani',10,30,40]]"
   ]
  },
  {
   "cell_type": "code",
   "execution_count": 17,
   "metadata": {
    "scrolled": true
   },
   "outputs": [
    {
     "name": "stdout",
     "output_type": "stream",
     "text": [
      "['lakshmi', 'raju']\n"
     ]
    }
   ],
   "source": [
    "b=0\n",
    "j=[]\n",
    "for i in stu:\n",
    "    m=i[1]+i[2]+i[3]\n",
    "    if(b<m):\n",
    "        b=m\n",
    "        j=[i[0]]\n",
    "    elif(m==b):\n",
    "        j.append(i[0])\n",
    "print(j)"
   ]
  },
  {
   "cell_type": "markdown",
   "metadata": {},
   "source": [
    "# 2 . sort by second subject"
   ]
  },
  {
   "cell_type": "code",
   "execution_count": 35,
   "metadata": {},
   "outputs": [
    {
     "name": "stdout",
     "output_type": "stream",
     "text": [
      "[[1, 30, 40], [3, 40, 100], [2, 50, 10]]\n",
      "[[2, 50, 10], [1, 30, 40], [3, 40, 100]]\n"
     ]
    }
   ],
   "source": [
    "#    [rno,sub1,sub2]\n",
    "stud=[[1, 30,  40],[3,40,100],[2,50,10]]\n",
    "print(stud)\n",
    "for i in stud:\n",
    "    i.reverse()\n",
    "stud.sort()\n",
    "for i in stud:\n",
    "    i.reverse()\n",
    "print(stud)"
   ]
  },
  {
   "cell_type": "markdown",
   "metadata": {},
   "source": [
    "# 3 . FIND THE SUM OF DIGITS IN A GIVEN STRING"
   ]
  },
  {
   "cell_type": "code",
   "execution_count": 67,
   "metadata": {},
   "outputs": [
    {
     "name": "stdout",
     "output_type": "stream",
     "text": [
      "6\n"
     ]
    }
   ],
   "source": [
    "def sumOfNum(data):\n",
    "    s=0\n",
    "    for i in data:\n",
    "        if i.isdigit():\n",
    "            s+=int(i)\n",
    "    return s\n",
    "data='sairam 123 lakshmi'\n",
    "print(sumOfNum(data))"
   ]
  },
  {
   "cell_type": "markdown",
   "metadata": {},
   "source": [
    "# 4 . FIND THE NUMBER OF CHARACTERS(A-Z OR a-z) IN A GIVEN STRING"
   ]
  },
  {
   "cell_type": "code",
   "execution_count": 51,
   "metadata": {},
   "outputs": [
    {
     "name": "stdout",
     "output_type": "stream",
     "text": [
      "13\n"
     ]
    }
   ],
   "source": [
    "s=0\n",
    "for i in data:\n",
    "    if i.isalpha():\n",
    "        s+=1\n",
    "print(s)"
   ]
  },
  {
   "cell_type": "markdown",
   "metadata": {},
   "source": [
    "# 5.  FIND THE NUMBER OF DIGITS"
   ]
  },
  {
   "cell_type": "code",
   "execution_count": 52,
   "metadata": {},
   "outputs": [
    {
     "name": "stdout",
     "output_type": "stream",
     "text": [
      "3\n"
     ]
    }
   ],
   "source": [
    "s=0\n",
    "for i in data:\n",
    "    if i.isdigit():\n",
    "        s+=1\n",
    "print(s)"
   ]
  },
  {
   "cell_type": "markdown",
   "metadata": {},
   "source": [
    "# 6 . FIND THE AVERAGE OF DIGITS"
   ]
  },
  {
   "cell_type": "code",
   "execution_count": 53,
   "metadata": {},
   "outputs": [
    {
     "name": "stdout",
     "output_type": "stream",
     "text": [
      "2.0\n"
     ]
    }
   ],
   "source": [
    "s=0\n",
    "c=0\n",
    "for i in data:\n",
    "    if i.isdigit():\n",
    "        s+=int(i)\n",
    "        c+=1\n",
    "print(s/c)"
   ]
  },
  {
   "cell_type": "markdown",
   "metadata": {},
   "source": [
    "# 7 . find the lucky number (Eg: 1234=1+2+3+4=10=1+0=1(lucky number)"
   ]
  },
  {
   "cell_type": "code",
   "execution_count": 73,
   "metadata": {},
   "outputs": [
    {
     "name": "stdout",
     "output_type": "stream",
     "text": [
      "lucky number is   1\n"
     ]
    }
   ],
   "source": [
    "data='sairam 12345553 lakshmi'\n",
    "while len(data)!=1:\n",
    "    data=str(sumOfNum(data))\n",
    "print('lucky number is  ',data)"
   ]
  },
  {
   "cell_type": "markdown",
   "metadata": {},
   "source": [
    "### find a company name whith 5 characters and ending eith 'e'"
   ]
  },
  {
   "cell_type": "code",
   "execution_count": 7,
   "metadata": {},
   "outputs": [
    {
     "name": "stdout",
     "output_type": "stream",
     "text": [
      "apple\n"
     ]
    }
   ],
   "source": [
    "import re\n",
    "companies=['apple','microsoft','google','tcs']\n",
    "for i in companies:\n",
    "    if re.search('^....e$',i):\n",
    "        print(i)"
   ]
  },
  {
   "cell_type": "markdown",
   "metadata": {},
   "source": [
    "### find a company name whit only  5or 3 characters "
   ]
  },
  {
   "cell_type": "code",
   "execution_count": 9,
   "metadata": {},
   "outputs": [
    {
     "name": "stdout",
     "output_type": "stream",
     "text": [
      "apple\n",
      "tcs\n"
     ]
    }
   ],
   "source": [
    "companies=['apple','microsoft','google','tcs']\n",
    "for i in companies:\n",
    "    if re.search('^.{3,5}$',i):\n",
    "        print(i)"
   ]
  },
  {
   "cell_type": "markdown",
   "metadata": {},
   "source": [
    "### find a company name whit only  5 characters "
   ]
  },
  {
   "cell_type": "code",
   "execution_count": 17,
   "metadata": {},
   "outputs": [
    {
     "name": "stdout",
     "output_type": "stream",
     "text": [
      "apple\n",
      "\n",
      "\n",
      "\n"
     ]
    }
   ],
   "source": [
    "companies=['apple','microsoft','google','tcs']\n",
    "for i in companies:\n",
    "    if re.search('^.{5}$',i):\n",
    "        print(i)"
   ]
  },
  {
   "cell_type": "markdown",
   "metadata": {},
   "source": [
    "### print only english words"
   ]
  },
  {
   "cell_type": "code",
   "execution_count": 49,
   "metadata": {},
   "outputs": [
    {
     "name": "stdout",
     "output_type": "stream",
     "text": [
      "hello i am vyshnavi moblie number is i am here to stay to days "
     ]
    }
   ],
   "source": [
    "import re\n",
    "MESSAGE=\"\"\"hello i am vyshnavi \n",
    ".!my moblie number is 1234569870 i am here to stay 4 to 8 days\"\"\"\n",
    "MESSAGE=MESSAGE.split(' ')\n",
    "for i in MESSAGE:\n",
    "    if re.search('^[a-zA-Z]+$',i):\n",
    "        print(i,end=\" \")\n"
   ]
  },
  {
   "cell_type": "code",
   "execution_count": 56,
   "metadata": {},
   "outputs": [
    {
     "name": "stdout",
     "output_type": "stream",
     "text": [
      "['hello ', 'i ', 'am ', 'my ', 'moblie ', 'number ', 'is ', 'i ', 'am ', 'here ', 'to ', 'stay ', 'to ', 'days ']\n"
     ]
    }
   ],
   "source": [
    "import re\n",
    "MESSAGE=\"\"\"hello ...! $i am vys$hnavi\n",
    "my moblie number is 1234569870 i am here to stay 4 to 8 days \"\"\"\n",
    "print(re.findall('[a-z]+ ',MESSAGE))"
   ]
  },
  {
   "cell_type": "code",
   "execution_count": 57,
   "metadata": {},
   "outputs": [
    {
     "name": "stdout",
     "output_type": "stream",
     "text": [
      "['1234569870 ', '4 ', '8 ']\n",
      "['1234569870 ', '4 ', '8 ']\n"
     ]
    }
   ],
   "source": [
    "import re\n",
    "MESSAGE=\"\"\"hello ...! $i am vys$hnavi\n",
    "my moblie number is 1234569870 i am here to stay 4 to 8 days\"\"\"\n",
    "print(re.findall('[0-9]+ ',MESSAGE))\n",
    "           #or\n",
    "print(re.findall('\\d+ ',MESSAGE))"
   ]
  },
  {
   "cell_type": "markdown",
   "metadata": {},
   "source": [
    "# FIND PATTERNS FOR E-MAIL ID"
   ]
  },
  {
   "cell_type": "code",
   "execution_count": 29,
   "metadata": {
    "scrolled": true
   },
   "outputs": [
    {
     "name": "stdout",
     "output_type": "stream",
     "text": [
      "vgh578cfuchid47@gmail.com\n",
      "valid\n"
     ]
    }
   ],
   "source": [
    "def mailValid(mail):\n",
    "    import re\n",
    "    if re.search('^\\S*@gmail.com$',mail):\n",
    "        return 'valid'\n",
    "    else:\n",
    "        return 'invalid'\n",
    "m_num=input()\n",
    "print(mailValid(m_num))"
   ]
  },
  {
   "cell_type": "code",
   "execution_count": null,
   "metadata": {},
   "outputs": [],
   "source": [
    "rRhNFtwCKAAyoKkcEVRFKKHhPgFogFSZYBoDULf"
   ]
  },
  {
   "cell_type": "markdown",
   "metadata": {},
   "source": [
    "# 4-09-2019"
   ]
  },
  {
   "cell_type": "markdown",
   "metadata": {},
   "source": [
    "## 1 . create function for mobile number validator\n",
    "## 2 . create function for person name validator (A.sairam,sairam.A,A Sairam,sairam A,sairam\n",
    "## 3 . create a function to check given details are valid or not"
   ]
  },
  {
   "cell_type": "code",
   "execution_count": 5,
   "metadata": {},
   "outputs": [
    {
     "name": "stdout",
     "output_type": "stream",
     "text": [
      "9866145214\n",
      "valid\n"
     ]
    }
   ],
   "source": [
    "# 1 . create function for mobile number validator\n",
    "def numValid(m_num):\n",
    "    import re\n",
    "    if re.search('^[6-9]\\d{9}$',m_num):\n",
    "        return 'valid'\n",
    "    else:\n",
    "        return 'invalid'\n",
    "m_num=input()\n",
    "print(numValid(m_num))"
   ]
  },
  {
   "cell_type": "code",
   "execution_count": 40,
   "metadata": {},
   "outputs": [
    {
     "name": "stdout",
     "output_type": "stream",
     "text": [
      "c vcf\n",
      "invalid\n"
     ]
    }
   ],
   "source": [
    "# 2 . create function for person name validator (A.sairam,sairam.A,A Sairam,sairam A,sairam)\n",
    "def nameValid(name):\n",
    "    import re\n",
    "    if re.search('^[a-zA-Z]*[. ]{0,1}[a-zA-Z]+$',name):\n",
    "        return 'valid'\n",
    "    else:\n",
    "        return 'invalid'\n",
    "\n",
    "name=input()\n",
    "print(nameValid(name))"
   ]
  },
  {
   "cell_type": "code",
   "execution_count": 27,
   "metadata": {},
   "outputs": [
    {
     "name": "stdout",
     "output_type": "stream",
     "text": [
      "False\n"
     ]
    }
   ],
   "source": [
    "# 3 . create a function to check given details are valid or not\n",
    "def valid(a,b):\n",
    "    import re\n",
    "    if re.search(a,b):\n",
    "        return 'True'\n",
    "    else:\n",
    "        return 'False'\n",
    "print(valid('^\\d{10}$','1234567o99'))"
   ]
  },
  {
   "cell_type": "code",
   "execution_count": null,
   "metadata": {},
   "outputs": [],
   "source": []
  },
  {
   "cell_type": "markdown",
   "metadata": {},
   "source": [
    "# 05-09-2019"
   ]
  },
  {
   "cell_type": "code",
   "execution_count": null,
   "metadata": {},
   "outputs": [],
   "source": []
  }
 ],
 "metadata": {
  "kernelspec": {
   "display_name": "Python 3",
   "language": "python",
   "name": "python3"
  },
  "language_info": {
   "codemirror_mode": {
    "name": "ipython",
    "version": 3
   },
   "file_extension": ".py",
   "mimetype": "text/x-python",
   "name": "python",
   "nbconvert_exporter": "python",
   "pygments_lexer": "ipython3",
   "version": "3.7.3"
  }
 },
 "nbformat": 4,
 "nbformat_minor": 2
}
