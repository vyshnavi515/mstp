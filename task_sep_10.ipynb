{
 "cells": [
  {
   "cell_type": "markdown",
   "metadata": {},
   "source": [
    "# function to calculate the average of all factorial in a given range"
   ]
  },
  {
   "cell_type": "code",
   "execution_count": 4,
   "metadata": {},
   "outputs": [
    {
     "data": {
      "text/plain": [
       "3.0"
      ]
     },
     "execution_count": 4,
     "metadata": {},
     "output_type": "execute_result"
    }
   ],
   "source": [
    "def fact(n):\n",
    "    if n==1:\n",
    "        return 1\n",
    "    return n*fact(n-1)\n",
    "\n",
    "\n",
    "def avgfact(a,b):\n",
    "    s=0\n",
    "    for i in range(a,b+1):\n",
    "        s=s+fact(i)\n",
    "    a=(b+1)-a\n",
    "    avg=s/a\n",
    "    return avg\n",
    "\n",
    "avgfact(1,3)"
   ]
  },
  {
   "cell_type": "markdown",
   "metadata": {},
   "source": [
    "# function to generate n amstrong numbers"
   ]
  },
  {
   "cell_type": "code",
   "execution_count": 4,
   "metadata": {},
   "outputs": [
    {
     "name": "stdout",
     "output_type": "stream",
     "text": [
      "enter  5\n",
      "1\n",
      "153\n",
      "370\n",
      "371\n",
      "407\n"
     ]
    }
   ],
   "source": [
    "def amg(n):\n",
    "    num=0\n",
    "    i=1\n",
    "    while n:\n",
    "        num+=(int(n%10))**3\n",
    "        n=int(n/10)\n",
    "    return num\n",
    "\n",
    "\n",
    "\n",
    "n=0\n",
    "i=0\n",
    "N=int(input('enter  '))\n",
    "while n<N:\n",
    "    i+=1\n",
    "    if i==amg(i):\n",
    "        print(i)\n",
    "        n+=1"
   ]
  },
  {
   "cell_type": "code",
   "execution_count": null,
   "metadata": {},
   "outputs": [],
   "source": []
  }
 ],
 "metadata": {
  "kernelspec": {
   "display_name": "Python 3",
   "language": "python",
   "name": "python3"
  },
  "language_info": {
   "codemirror_mode": {
    "name": "ipython",
    "version": 3
   },
   "file_extension": ".py",
   "mimetype": "text/x-python",
   "name": "python",
   "nbconvert_exporter": "python",
   "pygments_lexer": "ipython3",
   "version": "3.7.3"
  }
 },
 "nbformat": 4,
 "nbformat_minor": 2
}
